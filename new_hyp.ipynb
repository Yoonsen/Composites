{
 "cells": [
  {
   "cell_type": "code",
   "execution_count": 5,
   "id": "f55986e5-fdc3-4579-951e-10f657388c84",
   "metadata": {},
   "outputs": [],
   "source": [
    "import pandas as pd\n",
    "import sqlite3\n",
    "import sys"
   ]
  },
  {
   "cell_type": "code",
   "execution_count": 6,
   "id": "a9f3429a-57f1-423f-9178-b721d3613bc8",
   "metadata": {},
   "outputs": [],
   "source": [
    "hyp = \"/mnt/disk1/Github/total.db\""
   ]
  },
  {
   "cell_type": "code",
   "execution_count": 7,
   "id": "96d561f7-2b36-4fe8-bf2a-a2691356b7c7",
   "metadata": {},
   "outputs": [],
   "source": [
    "def query(db, sql, param = ()):\n",
    "    res = []\n",
    "    with sqlite3.connect(db) as con:\n",
    "        cur = con.cursor()\n",
    "        try:\n",
    "            cur.execute(sql, param)\n",
    "            res = cur.fetchall()\n",
    "        except:\n",
    "            print('en feil oppstod:', str(sys.exc_info()[1]) )\n",
    "    return res\n",
    "\n",
    "def pdquery(db, sql, params = ()):\n",
    "    res = pd.DataFrame()\n",
    "    with sqlite3.connect(db) as con:\n",
    "        try:\n",
    "            res = pd.read_sql_query(sql, con, params = params)\n",
    "        except:\n",
    "            print('en feil oppstod:', str(sys.exc_info()[1]) )\n",
    "    return res"
   ]
  },
  {
   "cell_type": "code",
   "execution_count": 8,
   "id": "1db15e27-78f1-4bd9-aedc-7d3bfbb14377",
   "metadata": {},
   "outputs": [
    {
     "name": "stdout",
     "output_type": "stream",
     "text": [
      "en feil oppstod: table hyphendata already exists\n"
     ]
    },
    {
     "data": {
      "text/plain": [
       "[]"
      ]
     },
     "execution_count": 8,
     "metadata": {},
     "output_type": "execute_result"
    }
   ],
   "source": [
    "query(hyp, \"create table hyphendata (first varchar, second varchar, word varchar, freq int)\")"
   ]
  },
  {
   "cell_type": "code",
   "execution_count": 9,
   "id": "3740cee8-3e60-4214-acfe-0e705ab17549",
   "metadata": {},
   "outputs": [
    {
     "data": {
      "text/html": [
       "<style type=\"text/css\">\n",
       "</style>\n",
       "<table id=\"T_95c19\">\n",
       "  <thead>\n",
       "    <tr>\n",
       "      <th class=\"blank level0\" >&nbsp;</th>\n",
       "      <th id=\"T_95c19_level0_col0\" class=\"col_heading level0 col0\" >type</th>\n",
       "      <th id=\"T_95c19_level0_col1\" class=\"col_heading level0 col1\" >name</th>\n",
       "      <th id=\"T_95c19_level0_col2\" class=\"col_heading level0 col2\" >tbl_name</th>\n",
       "      <th id=\"T_95c19_level0_col3\" class=\"col_heading level0 col3\" >rootpage</th>\n",
       "      <th id=\"T_95c19_level0_col4\" class=\"col_heading level0 col4\" >sql</th>\n",
       "    </tr>\n",
       "  </thead>\n",
       "  <tbody>\n",
       "    <tr>\n",
       "      <th id=\"T_95c19_level0_row0\" class=\"row_heading level0 row0\" >0</th>\n",
       "      <td id=\"T_95c19_row0_col0\" class=\"data row0 col0\" >table</td>\n",
       "      <td id=\"T_95c19_row0_col1\" class=\"data row0 col1\" >hyph</td>\n",
       "      <td id=\"T_95c19_row0_col2\" class=\"data row0 col2\" >hyph</td>\n",
       "      <td id=\"T_95c19_row0_col3\" class=\"data row0 col3\" >2</td>\n",
       "      <td id=\"T_95c19_row0_col4\" class=\"data row0 col4\" >CREATE TABLE hyph (first text, second text)</td>\n",
       "    </tr>\n",
       "    <tr>\n",
       "      <th id=\"T_95c19_level0_row1\" class=\"row_heading level0 row1\" >1</th>\n",
       "      <td id=\"T_95c19_row1_col0\" class=\"data row1 col0\" >table</td>\n",
       "      <td id=\"T_95c19_row1_col1\" class=\"data row1 col1\" >hyphendata</td>\n",
       "      <td id=\"T_95c19_row1_col2\" class=\"data row1 col2\" >hyphendata</td>\n",
       "      <td id=\"T_95c19_row1_col3\" class=\"data row1 col3\" >14943990</td>\n",
       "      <td id=\"T_95c19_row1_col4\" class=\"data row1 col4\" >CREATE TABLE hyphendata (first varchar, second varchar, word varchar, freq int)</td>\n",
       "    </tr>\n",
       "  </tbody>\n",
       "</table>\n"
      ],
      "text/plain": [
       "<pandas.io.formats.style.Styler at 0x7f280992bdf0>"
      ]
     },
     "execution_count": 9,
     "metadata": {},
     "output_type": "execute_result"
    }
   ],
   "source": [
    "pdquery(hyp, \"select * from sqlite_master\").style"
   ]
  },
  {
   "cell_type": "code",
   "execution_count": 11,
   "id": "62a205c2-73e7-4a15-900b-02ffe333c812",
   "metadata": {},
   "outputs": [
    {
     "data": {
      "text/plain": [
       "[]"
      ]
     },
     "execution_count": 11,
     "metadata": {},
     "output_type": "execute_result"
    }
   ],
   "source": [
    "query(hyp, \"insert into hyphendata select first, second, first || second, count(*) from hyph group by first, second\")"
   ]
  },
  {
   "cell_type": "code",
   "execution_count": 13,
   "id": "d2e97ded-e294-46c0-a0d4-2c1fcf8452ee",
   "metadata": {},
   "outputs": [
    {
     "data": {
      "text/plain": [
       "[(223039157,)]"
      ]
     },
     "execution_count": 13,
     "metadata": {},
     "output_type": "execute_result"
    }
   ],
   "source": [
    "query(hyp, \"select rowid from hyphendata order by rowid desc limit 1\")"
   ]
  },
  {
   "cell_type": "code",
   "execution_count": 14,
   "id": "2c31ff9d-4bbd-4c1d-8ea9-573ffa2a5471",
   "metadata": {},
   "outputs": [
    {
     "data": {
      "text/plain": [
       "[]"
      ]
     },
     "execution_count": 14,
     "metadata": {},
     "output_type": "execute_result"
    }
   ],
   "source": [
    "query(hyp, \"create index _wf_ on hyphendata (word, freq)\")"
   ]
  },
  {
   "cell_type": "code",
   "execution_count": null,
   "id": "f8fa9cba-1aa2-4389-ae17-dda7594977d5",
   "metadata": {},
   "outputs": [],
   "source": []
  }
 ],
 "metadata": {
  "kernelspec": {
   "display_name": "Python 3 (ipykernel)",
   "language": "python",
   "name": "python3"
  },
  "language_info": {
   "codemirror_mode": {
    "name": "ipython",
    "version": 3
   },
   "file_extension": ".py",
   "mimetype": "text/x-python",
   "name": "python",
   "nbconvert_exporter": "python",
   "pygments_lexer": "ipython3",
   "version": "3.9.15"
  }
 },
 "nbformat": 4,
 "nbformat_minor": 5
}
