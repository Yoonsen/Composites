{
 "cells": [
  {
   "cell_type": "markdown",
   "id": "2b31f2b2-54dd-426e-b2cc-b0ea0bed5920",
   "metadata": {},
   "source": [
    "# Sammensetninger"
   ]
  },
  {
   "cell_type": "code",
   "execution_count": 56,
   "id": "9a795f95-dde0-40ce-9a68-fd95c4c9cf3e",
   "metadata": {},
   "outputs": [],
   "source": [
    "import sqlite3\n",
    "import pandas as pd\n",
    "import dhlab as dh\n",
    "import sys\n",
    "import math\n",
    "import ipywidgets as widgets\n",
    "from IPython.display import display, Markdown"
   ]
  },
  {
   "cell_type": "code",
   "execution_count": 3,
   "id": "61c8d14e-263f-428b-80ad-e5aa3c7086c8",
   "metadata": {},
   "outputs": [],
   "source": [
    "db = \"/mnt/disk1/Github/hyphens.db\"\n",
    "uni = \"/mnt/disk2/NB-ngram-assoc/unigram-one-row.db\"\n",
    "hyp = \"/mnt/disk1/Github/total.db\""
   ]
  },
  {
   "cell_type": "code",
   "execution_count": 4,
   "id": "42e1a5ed-e7e3-4f95-80be-10398622c9bb",
   "metadata": {},
   "outputs": [],
   "source": [
    "def query(db, sql, param = ()):\n",
    "    res = []\n",
    "    with sqlite3.connect(db) as con:\n",
    "        cur = con.cursor()\n",
    "        try:\n",
    "            cur.execute(sql, param)\n",
    "            res = cur.fetchall()\n",
    "        except:\n",
    "            print('en feil oppstod:', str(sys.exc_info()[1]) )\n",
    "    return res\n",
    "\n",
    "def pdquery(db, sql, params = ()):\n",
    "    res = pd.DataFrame()\n",
    "    with sqlite3.connect(db) as con:\n",
    "        try:\n",
    "            res = pd.read_sql_query(sql, con, params = params)\n",
    "        except:\n",
    "            print('en feil oppstod:', str(sys.exc_info()[1]) )\n",
    "    return res"
   ]
  },
  {
   "cell_type": "code",
   "execution_count": 5,
   "id": "236fec5d-5ed9-47be-9996-8eb28179fd49",
   "metadata": {},
   "outputs": [],
   "source": [
    "def analyse(w, top=True):\n",
    "    res = dict()\n",
    "    for (f,s) in splits(w):\n",
    "        fx = query(uni,f\"select first, freq from unigram where lang = 'nob' and first = '{f}'\" )\n",
    "        sx = query(uni,f\"select first, freq from unigram where lang = 'nob' and first = '{s}'\" )\n",
    "        try:\n",
    "            fa = fx[0][1]\n",
    "            sa = sx[0][1]\n",
    "            #M = (fa + sa)/2\n",
    "            #sd = math.sqrt( ((fa - M)**2 + (sa - M)**2)/2)\n",
    "            #percent = abs(fa - sa)/sd\n",
    "            res[(f,s, f\"{f}{s}\")] = (fa, sa, math.log(fa*sa), sa/fa)\n",
    "        except:\n",
    "            pass\n",
    "    if top:\n",
    "        result = pd.DataFrame((pd.DataFrame(res, index=['first_freq','second_freq','log_prod', 'sd'])\n",
    "            .transpose()\n",
    "            .sort_values(by='log_prod', ascending=False)).iloc[0]).transpose()\n",
    "    else:\n",
    "        result = (pd.DataFrame(res, index=['first_freq','second_freq','log_prod', 'sd'])\n",
    "            .transpose()\n",
    "            .sort_values(by='log_prod', ascending=False))\n",
    "    return result"
   ]
  },
  {
   "cell_type": "code",
   "execution_count": 6,
   "id": "e909491d-e9d0-4d16-89c2-7e138be6b027",
   "metadata": {},
   "outputs": [],
   "source": [
    "def compose(x, top=True):\n",
    "    try:\n",
    "        if top:\n",
    "            res = pd.DataFrame(pdquery(hyp, f\"select * from hyphendata where word='{x}'\").sort_values(by=\"freq\", ascending=False).iloc[0]).transpose()\n",
    "        else:\n",
    "            res = pd.DataFrame(pdquery(hyp, f\"select * from hyphendata where word='{x}'\").sort_values(by=\"freq\", ascending=False))\n",
    "    except:\n",
    "        res = pd.DataFrame([(0,\"\",\"\",x)], columns = \"freq first second word\".split())\n",
    "    return res\n",
    "                        "
   ]
  },
  {
   "cell_type": "code",
   "execution_count": 7,
   "id": "88c34149-9f7f-4be8-9333-dce4fedcb0af",
   "metadata": {},
   "outputs": [],
   "source": [
    "def splits(x):\n",
    "    mains = [(x[0:i],x[i:]) for i in range(1,len(x))]\n",
    "    #print(mains)\n",
    "    fuge = []\n",
    "    for prefix in mains:\n",
    "        #print(prefix)\n",
    "        if len(prefix[0]) > 1 and prefix[0].endswith('e') or prefix[0].endswith('s'):\n",
    "            fuge.append((prefix[0][:-1], prefix[1]))\n",
    "    return mains + fuge"
   ]
  },
  {
   "cell_type": "code",
   "execution_count": 50,
   "id": "29e2b449-aac5-4d36-954e-928d3c2d8145",
   "metadata": {},
   "outputs": [],
   "source": [
    "\n",
    "def show_words(change = '', top = True):\n",
    "    words = change.split()\n",
    "    #print(words)\n",
    "    res = pd.DataFrame()\n",
    "    res2 = pd.DataFrame()\n",
    "    try:\n",
    "        res = pd.concat([analyse(x, top=top) for x in words])\n",
    "        res2 = pd.concat([compose(x, top=top) for x in words])\n",
    "    except:\n",
    "        pass\n",
    "    display(Markdown(\"## ngram\"))\n",
    "    display(res)\n",
    "    display(Markdown(\"## hyphen-data\"))\n",
    "    display(res2)\n",
    "    "
   ]
  },
  {
   "cell_type": "code",
   "execution_count": 51,
   "id": "7c216e7c-21fc-4dfa-b4a6-4ac521d10001",
   "metadata": {},
   "outputs": [],
   "source": [
    "display(Markdown(\"Legg til en eller flere ord, data oppdateres dynamisk\"))\n",
    "word = widgets.Text(\"nasjonalbiblioteket\")\n",
    "top = widgets.Checkbox(value=True, description=\"Klikk for å vise alt\" )"
   ]
  },
  {
   "cell_type": "code",
   "execution_count": 52,
   "id": "55602080-40c1-4023-8edf-fd63e6cdd16a",
   "metadata": {
    "tags": []
   },
   "outputs": [],
   "source": [
    "out = widgets.interactive_output(show_words, {'change': word, 'top':top})"
   ]
  },
  {
   "cell_type": "code",
   "execution_count": 58,
   "id": "82e88e47-8c68-4fc6-b219-cf927c5acc59",
   "metadata": {
    "tags": []
   },
   "outputs": [
    {
     "ename": "NameError",
     "evalue": "name 'top' is not defined",
     "output_type": "error",
     "traceback": [
      "\u001b[0;31m---------------------------------------------------------------------------\u001b[0m",
      "\u001b[0;31mNameError\u001b[0m                                 Traceback (most recent call last)",
      "Cell \u001b[0;32mIn[58], line 1\u001b[0m\n\u001b[0;32m----> 1\u001b[0m widgets\u001b[38;5;241m.\u001b[39mVBox([word, \u001b[43mtop\u001b[49m])\n",
      "\u001b[0;31mNameError\u001b[0m: name 'top' is not defined"
     ]
    }
   ],
   "source": [
    "widgets.VBox([word, top])"
   ]
  },
  {
   "cell_type": "code",
   "execution_count": 59,
   "id": "1816dbf9-4f0c-4209-ba8b-acd8c1840dda",
   "metadata": {
    "tags": []
   },
   "outputs": [
    {
     "data": {
      "application/vnd.jupyter.widget-view+json": {
       "model_id": "",
       "version_major": 2,
       "version_minor": 0
      },
      "text/plain": [
       "HBox(children=(Output(),))"
      ]
     },
     "execution_count": 59,
     "metadata": {},
     "output_type": "execute_result"
    }
   ],
   "source": [
    "widgets.HBox([out])"
   ]
  },
  {
   "cell_type": "code",
   "execution_count": 57,
   "id": "f0af9ec1-d5c1-4295-9376-1cb81e021b30",
   "metadata": {
    "tags": []
   },
   "outputs": [],
   "source": [
    "#widgets.HBox([widgets.VBox([word]), out])"
   ]
  },
  {
   "cell_type": "code",
   "execution_count": null,
   "id": "9300b966-51f3-44bf-93d4-c9ed689fc871",
   "metadata": {},
   "outputs": [],
   "source": []
  }
 ],
 "metadata": {
  "kernelspec": {
   "display_name": "Python 3 (ipykernel)",
   "language": "python",
   "name": "python3"
  },
  "language_info": {
   "codemirror_mode": {
    "name": "ipython",
    "version": 3
   },
   "file_extension": ".py",
   "mimetype": "text/x-python",
   "name": "python",
   "nbconvert_exporter": "python",
   "pygments_lexer": "ipython3",
   "version": "3.9.15"
  },
  "toc-autonumbering": true,
  "toc-showmarkdowntxt": true,
  "toc-showtags": false
 },
 "nbformat": 4,
 "nbformat_minor": 5
}
